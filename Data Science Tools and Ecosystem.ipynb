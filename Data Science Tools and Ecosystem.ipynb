{
 "cells": [
  {
   "cell_type": "markdown",
   "id": "9008495a",
   "metadata": {},
   "source": [
    "# Data science Tools and ecosystem"
   ]
  },
  {
   "cell_type": "markdown",
   "id": "8f6785c4",
   "metadata": {},
   "source": [
    "In this notebook, Data Science Tools and Ecosystem are summarized."
   ]
  },
  {
   "cell_type": "markdown",
   "id": "fe20b69c",
   "metadata": {},
   "source": [
    "**Objectives**\n",
    "\n",
    "- Understand the fundamental tools and platforms used in data science.\n",
    "- Apply Python libraries to manipulate data and perform statistical analysis.\n",
    "- Develop skills in data visualization with practical examples.\n"
   ]
  },
  {
   "cell_type": "markdown",
   "id": "182016d5",
   "metadata": {},
   "source": [
    "Some of the popular languages that Data Scientists use are:"
   ]
  },
  {
   "cell_type": "markdown",
   "id": "75fbb507",
   "metadata": {},
   "source": [
    "Python\n",
    "R\n",
    "SQL"
   ]
  },
  {
   "cell_type": "markdown",
   "id": "da8395d8",
   "metadata": {},
   "source": [
    "\n",
    "Some of the commonly used libraries used by Data Scientists include:\n",
    "Numpy\n",
    "Pandas\n",
    "Scikit-Learn\n",
    "TensorFlow"
   ]
  },
  {
   "cell_type": "markdown",
   "id": "068ccf79",
   "metadata": {},
   "source": [
    "| Data Science Tools |\n",
    "|---------------------|\n",
    "| Jupyter Notebook    |\n",
    "| Pandas              |\n",
    "| Scikit-Learn        |\n"
   ]
  },
  {
   "cell_type": "markdown",
   "id": "dfed9309",
   "metadata": {},
   "source": [
    "Below are a few examples of evaluating arithmetic expressions in Python"
   ]
  },
  {
   "cell_type": "markdown",
   "id": "d29bc380",
   "metadata": {},
   "source": [
    "# This simple arithmetic expression first adds 3 and 4, then multiplies the result by 5\n",
    "\n"
   ]
  },
  {
   "cell_type": "code",
   "execution_count": 2,
   "id": "26a1318c",
   "metadata": {},
   "outputs": [
    {
     "name": "stdout",
     "output_type": "stream",
     "text": [
      "35\n"
     ]
    }
   ],
   "source": [
    "result = (3 + 4) * 5\n",
    "print(result)\n"
   ]
  },
  {
   "cell_type": "markdown",
   "id": "64873eff",
   "metadata": {},
   "source": [
    "# This will convert 200 minutes to hours by dividing by 60\n",
    "\n"
   ]
  },
  {
   "cell_type": "code",
   "execution_count": 3,
   "id": "98ab4561",
   "metadata": {},
   "outputs": [
    {
     "name": "stdout",
     "output_type": "stream",
     "text": [
      "200 minutes is equal to 3.3333333333333335 hours.\n"
     ]
    }
   ],
   "source": [
    "minutes = 200\n",
    "hours = minutes / 60\n",
    "print(f\"{minutes} minutes is equal to {hours} hours.\")\n"
   ]
  },
  {
   "cell_type": "markdown",
   "id": "7cb73ad6",
   "metadata": {},
   "source": [
    "## Author\n",
    "\n",
    "ATEF ROUHANI"
   ]
  },
  {
   "cell_type": "code",
   "execution_count": null,
   "id": "3a08d25c",
   "metadata": {},
   "outputs": [],
   "source": []
  }
 ],
 "metadata": {
  "kernelspec": {
   "display_name": "Python 3 (ipykernel)",
   "language": "python",
   "name": "python3"
  },
  "language_info": {
   "codemirror_mode": {
    "name": "ipython",
    "version": 3
   },
   "file_extension": ".py",
   "mimetype": "text/x-python",
   "name": "python",
   "nbconvert_exporter": "python",
   "pygments_lexer": "ipython3",
   "version": "3.11.5"
  }
 },
 "nbformat": 4,
 "nbformat_minor": 5
}
